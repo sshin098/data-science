{
  "nbformat": 4,
  "nbformat_minor": 0,
  "metadata": {
    "colab": {
      "provenance": []
    },
    "kernelspec": {
      "name": "python3",
      "display_name": "Python 3"
    },
    "language_info": {
      "name": "python"
    }
  },
  "cells": [
    {
      "cell_type": "markdown",
      "source": [
        "1. Define a string with a value equal to “Python is fun!”. Print every third character of this string."
      ],
      "metadata": {
        "id": "Pc0QzLsFduvJ"
      }
    },
    {
      "cell_type": "code",
      "source": [
        "string = \"Python is fun!\"\n",
        "char = string[0:len(string):3]\n",
        "print (char)"
      ],
      "metadata": {
        "colab": {
          "base_uri": "https://localhost:8080/"
        },
        "id": "mWsE5LIneJmX",
        "outputId": "0ae70332-9d20-4536-92a6-6f9d04762deb"
      },
      "execution_count": 6,
      "outputs": [
        {
          "output_type": "stream",
          "name": "stdout",
          "text": [
            "Ph  n\n"
          ]
        }
      ]
    },
    {
      "cell_type": "markdown",
      "source": [
        "2. Create three list variables named 'StudentName', 'ID', and 'EmailAddress'. Add 5 random values in these lists and print them."
      ],
      "metadata": {
        "id": "mopzbSq5fR3G"
      }
    },
    {
      "cell_type": "code",
      "source": [
        "{\"StudentName\":\"George, Ava, Julia, Stephen, Carla\", \"ID\":( 252 , 253, 254, 255, 256) , \"EmailAddress\": \"georg252@deakin.edu.au, ava253@deakin.edu.au, julia254@deakin.edu.au, step255@deakin.edu.au, carl256@deakin.edu.au\"}"
      ],
      "metadata": {
        "colab": {
          "base_uri": "https://localhost:8080/"
        },
        "id": "lJG36dRefUZ4",
        "outputId": "9ab511f6-a9fb-4773-cc38-70099ff0446a"
      },
      "execution_count": 7,
      "outputs": [
        {
          "output_type": "execute_result",
          "data": {
            "text/plain": [
              "{'StudentName': 'George, Ava, Julia, Stephen, Carla',\n",
              " 'ID': (252, 253, 254, 255, 256),\n",
              " 'EmailAddress': 'georg252@deakin.edu.au, ava253@deakin.edu.au, julia254@deakin.edu.au, step255@deakin.edu.au, carl256@deakin.edu.au'}"
            ]
          },
          "metadata": {},
          "execution_count": 7
        }
      ]
    },
    {
      "cell_type": "markdown",
      "source": [
        "3. Create a dictionary variable with three keys, which are named same as the list created in the previous problem. Insert the previously created lists in the dictionary variable and print it."
      ],
      "metadata": {
        "id": "UqWVL5ucMZj6"
      }
    },
    {
      "cell_type": "code",
      "source": [
        "test_dict = {}  \n",
        "# Initialize keys\n",
        "test_keys = ['Studentname', 'ID', 'EmailAddress']\n",
        "lst = [('George', 'Ava', 'Julia', 'Stephen','Carla'),(252,253,254,255,256), ('georg252@deakin.edu.au','ava253@deakin.edu.au','julia254@deakin.edu.au','step255@deakin.edu.au','carl256@deakin.edu.au')]\n",
        "test_dict = dict(zip(test_keys, lst)) \n",
        "print(test_dict)"
      ],
      "metadata": {
        "colab": {
          "base_uri": "https://localhost:8080/"
        },
        "id": "DBzrwdE3Omy2",
        "outputId": "7ec905a6-72e6-4819-d765-f41947991965"
      },
      "execution_count": 24,
      "outputs": [
        {
          "output_type": "stream",
          "name": "stdout",
          "text": [
            "{'Studentname': ('George', 'Ava', 'Julia', 'Stephen', 'Carla'), 'ID': (252, 253, 254, 255, 256), 'EmailAddress': ('georg252@deakin.edu.au', 'ava253@deakin.edu.au', 'julia254@deakin.edu.au', 'step255@deakin.edu.au', 'carl256@deakin.edu.au')}\n"
          ]
        }
      ]
    },
    {
      "cell_type": "markdown",
      "source": [
        "4.  Define a numeric variable 'energy' and assign value either 1 or 2. Print \"Apple\" if the value of energy variable is 1 otherwise print \"Banana\". What will your program print if energy=10? "
      ],
      "metadata": {
        "id": "sp0bmRy5TFYu"
      }
    },
    {
      "cell_type": "code",
      "source": [
        "energy= input ('value')\n",
        "if energy==1:\n",
        "  print('Apple')\n",
        "else:\n",
        "  print ('Banana')"
      ],
      "metadata": {
        "colab": {
          "base_uri": "https://localhost:8080/"
        },
        "id": "5GN0nUIRTGrB",
        "outputId": "ff2294c9-d7bc-43cf-a47f-fd8f47bd65a7"
      },
      "execution_count": 36,
      "outputs": [
        {
          "output_type": "stream",
          "name": "stdout",
          "text": [
            "value10\n",
            "Banana\n"
          ]
        }
      ]
    },
    {
      "cell_type": "markdown",
      "source": [
        "5.  Print numbers between 0 and 2000 separated by line, which are divisible by 5."
      ],
      "metadata": {
        "id": "zy-JzJPvVCVh"
      }
    },
    {
      "cell_type": "code",
      "source": [
        "for i in range(0, 2000):\n",
        "    if i % 5 == 0:\n",
        "        print(i)"
      ],
      "metadata": {
        "colab": {
          "base_uri": "https://localhost:8080/"
        },
        "id": "6nMT6ZeiVFs4",
        "outputId": "492151bd-c19d-4119-962c-c5dfb22af52b"
      },
      "execution_count": 40,
      "outputs": [
        {
          "output_type": "stream",
          "name": "stdout",
          "text": [
            "0\n",
            "5\n",
            "10\n",
            "15\n",
            "20\n",
            "25\n",
            "30\n",
            "35\n",
            "40\n",
            "45\n",
            "50\n",
            "55\n",
            "60\n",
            "65\n",
            "70\n",
            "75\n",
            "80\n",
            "85\n",
            "90\n",
            "95\n",
            "100\n",
            "105\n",
            "110\n",
            "115\n",
            "120\n",
            "125\n",
            "130\n",
            "135\n",
            "140\n",
            "145\n",
            "150\n",
            "155\n",
            "160\n",
            "165\n",
            "170\n",
            "175\n",
            "180\n",
            "185\n",
            "190\n",
            "195\n",
            "200\n",
            "205\n",
            "210\n",
            "215\n",
            "220\n",
            "225\n",
            "230\n",
            "235\n",
            "240\n",
            "245\n",
            "250\n",
            "255\n",
            "260\n",
            "265\n",
            "270\n",
            "275\n",
            "280\n",
            "285\n",
            "290\n",
            "295\n",
            "300\n",
            "305\n",
            "310\n",
            "315\n",
            "320\n",
            "325\n",
            "330\n",
            "335\n",
            "340\n",
            "345\n",
            "350\n",
            "355\n",
            "360\n",
            "365\n",
            "370\n",
            "375\n",
            "380\n",
            "385\n",
            "390\n",
            "395\n",
            "400\n",
            "405\n",
            "410\n",
            "415\n",
            "420\n",
            "425\n",
            "430\n",
            "435\n",
            "440\n",
            "445\n",
            "450\n",
            "455\n",
            "460\n",
            "465\n",
            "470\n",
            "475\n",
            "480\n",
            "485\n",
            "490\n",
            "495\n",
            "500\n",
            "505\n",
            "510\n",
            "515\n",
            "520\n",
            "525\n",
            "530\n",
            "535\n",
            "540\n",
            "545\n",
            "550\n",
            "555\n",
            "560\n",
            "565\n",
            "570\n",
            "575\n",
            "580\n",
            "585\n",
            "590\n",
            "595\n",
            "600\n",
            "605\n",
            "610\n",
            "615\n",
            "620\n",
            "625\n",
            "630\n",
            "635\n",
            "640\n",
            "645\n",
            "650\n",
            "655\n",
            "660\n",
            "665\n",
            "670\n",
            "675\n",
            "680\n",
            "685\n",
            "690\n",
            "695\n",
            "700\n",
            "705\n",
            "710\n",
            "715\n",
            "720\n",
            "725\n",
            "730\n",
            "735\n",
            "740\n",
            "745\n",
            "750\n",
            "755\n",
            "760\n",
            "765\n",
            "770\n",
            "775\n",
            "780\n",
            "785\n",
            "790\n",
            "795\n",
            "800\n",
            "805\n",
            "810\n",
            "815\n",
            "820\n",
            "825\n",
            "830\n",
            "835\n",
            "840\n",
            "845\n",
            "850\n",
            "855\n",
            "860\n",
            "865\n",
            "870\n",
            "875\n",
            "880\n",
            "885\n",
            "890\n",
            "895\n",
            "900\n",
            "905\n",
            "910\n",
            "915\n",
            "920\n",
            "925\n",
            "930\n",
            "935\n",
            "940\n",
            "945\n",
            "950\n",
            "955\n",
            "960\n",
            "965\n",
            "970\n",
            "975\n",
            "980\n",
            "985\n",
            "990\n",
            "995\n",
            "1000\n",
            "1005\n",
            "1010\n",
            "1015\n",
            "1020\n",
            "1025\n",
            "1030\n",
            "1035\n",
            "1040\n",
            "1045\n",
            "1050\n",
            "1055\n",
            "1060\n",
            "1065\n",
            "1070\n",
            "1075\n",
            "1080\n",
            "1085\n",
            "1090\n",
            "1095\n",
            "1100\n",
            "1105\n",
            "1110\n",
            "1115\n",
            "1120\n",
            "1125\n",
            "1130\n",
            "1135\n",
            "1140\n",
            "1145\n",
            "1150\n",
            "1155\n",
            "1160\n",
            "1165\n",
            "1170\n",
            "1175\n",
            "1180\n",
            "1185\n",
            "1190\n",
            "1195\n",
            "1200\n",
            "1205\n",
            "1210\n",
            "1215\n",
            "1220\n",
            "1225\n",
            "1230\n",
            "1235\n",
            "1240\n",
            "1245\n",
            "1250\n",
            "1255\n",
            "1260\n",
            "1265\n",
            "1270\n",
            "1275\n",
            "1280\n",
            "1285\n",
            "1290\n",
            "1295\n",
            "1300\n",
            "1305\n",
            "1310\n",
            "1315\n",
            "1320\n",
            "1325\n",
            "1330\n",
            "1335\n",
            "1340\n",
            "1345\n",
            "1350\n",
            "1355\n",
            "1360\n",
            "1365\n",
            "1370\n",
            "1375\n",
            "1380\n",
            "1385\n",
            "1390\n",
            "1395\n",
            "1400\n",
            "1405\n",
            "1410\n",
            "1415\n",
            "1420\n",
            "1425\n",
            "1430\n",
            "1435\n",
            "1440\n",
            "1445\n",
            "1450\n",
            "1455\n",
            "1460\n",
            "1465\n",
            "1470\n",
            "1475\n",
            "1480\n",
            "1485\n",
            "1490\n",
            "1495\n",
            "1500\n",
            "1505\n",
            "1510\n",
            "1515\n",
            "1520\n",
            "1525\n",
            "1530\n",
            "1535\n",
            "1540\n",
            "1545\n",
            "1550\n",
            "1555\n",
            "1560\n",
            "1565\n",
            "1570\n",
            "1575\n",
            "1580\n",
            "1585\n",
            "1590\n",
            "1595\n",
            "1600\n",
            "1605\n",
            "1610\n",
            "1615\n",
            "1620\n",
            "1625\n",
            "1630\n",
            "1635\n",
            "1640\n",
            "1645\n",
            "1650\n",
            "1655\n",
            "1660\n",
            "1665\n",
            "1670\n",
            "1675\n",
            "1680\n",
            "1685\n",
            "1690\n",
            "1695\n",
            "1700\n",
            "1705\n",
            "1710\n",
            "1715\n",
            "1720\n",
            "1725\n",
            "1730\n",
            "1735\n",
            "1740\n",
            "1745\n",
            "1750\n",
            "1755\n",
            "1760\n",
            "1765\n",
            "1770\n",
            "1775\n",
            "1780\n",
            "1785\n",
            "1790\n",
            "1795\n",
            "1800\n",
            "1805\n",
            "1810\n",
            "1815\n",
            "1820\n",
            "1825\n",
            "1830\n",
            "1835\n",
            "1840\n",
            "1845\n",
            "1850\n",
            "1855\n",
            "1860\n",
            "1865\n",
            "1870\n",
            "1875\n",
            "1880\n",
            "1885\n",
            "1890\n",
            "1895\n",
            "1900\n",
            "1905\n",
            "1910\n",
            "1915\n",
            "1920\n",
            "1925\n",
            "1930\n",
            "1935\n",
            "1940\n",
            "1945\n",
            "1950\n",
            "1955\n",
            "1960\n",
            "1965\n",
            "1970\n",
            "1975\n",
            "1980\n",
            "1985\n",
            "1990\n",
            "1995\n"
          ]
        }
      ]
    },
    {
      "cell_type": "markdown",
      "source": [
        "6. Is it possible to break a loop before executing for the defined number of iterations? If yes, provide an example using While loop structure. Otherwise, explain your answer (why and how).  \n",
        "Yes, it is possible to break a loop before executing for the defined number of iterations. It breaks the execution of the loop. "
      ],
      "metadata": {
        "id": "hPD2ptaeWfzT"
      }
    },
    {
      "cell_type": "markdown",
      "source": [
        "7. Create a function with two input parameters say (x, y) and return output values by doing operations such as 'x+y' and 'x-y'. Call the function with (4,7) and print the outputs."
      ],
      "metadata": {
        "id": "l2McJUsXWp1j"
      }
    },
    {
      "cell_type": "code",
      "source": [
        "def add(x, y):\n",
        "    sum = x + y\n",
        "    print (\"Sum: \", sum)\n",
        "add(4,7)  "
      ],
      "metadata": {
        "colab": {
          "base_uri": "https://localhost:8080/"
        },
        "id": "W1iCBj55Wt6P",
        "outputId": "91198350-5020-437b-f194-4c138edde954"
      },
      "execution_count": 50,
      "outputs": [
        {
          "output_type": "stream",
          "name": "stdout",
          "text": [
            "Sum:  11\n"
          ]
        }
      ]
    },
    {
      "cell_type": "code",
      "source": [
        "def minus(x, y):\n",
        "    sep = x - y\n",
        "    print (\"Sep: \", sep)\n",
        "minus(4,7)\n"
      ],
      "metadata": {
        "colab": {
          "base_uri": "https://localhost:8080/"
        },
        "id": "eHZVUHYoa19c",
        "outputId": "9311af46-fca1-4b41-ac47-d0e3da165a8a"
      },
      "execution_count": 51,
      "outputs": [
        {
          "output_type": "stream",
          "name": "stdout",
          "text": [
            "Sep:  -3\n"
          ]
        }
      ]
    },
    {
      "cell_type": "markdown",
      "source": [
        "8. Create and display a 3X3 Identity matrix and multiply it with a 3x4 Random matrix."
      ],
      "metadata": {
        "id": "wqWF_fnKbAJR"
      }
    },
    {
      "cell_type": "code",
      "source": [
        "import numpy as np\n",
        "dimension = 3\n",
        "identity = np.identity(dimension, dtype=\"int\")\n",
        "print(identity)"
      ],
      "metadata": {
        "colab": {
          "base_uri": "https://localhost:8080/"
        },
        "id": "lKltBZqBbBk8",
        "outputId": "69b71b94-341d-47bf-9e01-9cb039c9f65a"
      },
      "execution_count": 64,
      "outputs": [
        {
          "output_type": "stream",
          "name": "stdout",
          "text": [
            "[[1 0 0]\n",
            " [0 1 0]\n",
            " [0 0 1]]\n"
          ]
        }
      ]
    },
    {
      "cell_type": "code",
      "source": [
        "import numpy as np\n",
        "matrix = np.arange(10,22).reshape((3, 4))\n",
        "print(matrix)"
      ],
      "metadata": {
        "colab": {
          "base_uri": "https://localhost:8080/"
        },
        "id": "TBZhplOEdJNe",
        "outputId": "80dd6561-0e00-43c1-ff07-b61de7b57b6e"
      },
      "execution_count": 56,
      "outputs": [
        {
          "output_type": "stream",
          "name": "stdout",
          "text": [
            "[[10 11 12 13]\n",
            " [14 15 16 17]\n",
            " [18 19 20 21]]\n"
          ]
        }
      ]
    },
    {
      "cell_type": "code",
      "source": [
        "dumpy = [[0, 0, 0, 0],\n",
        "        [0, 0, 0, 0],\n",
        "        [0, 0, 0, 0]]\n",
        " \n",
        "for i in range(len(identity)):\n",
        "    for j in range(len(matrix[0])):\n",
        "        for k in range(len(matrix)):\n",
        "            dumpy[i][j] += identity[i][k] * matrix[k][j]\n",
        "for l in dumpy:\n",
        "    print(l)"
      ],
      "metadata": {
        "colab": {
          "base_uri": "https://localhost:8080/"
        },
        "id": "cwqMnDuBhouK",
        "outputId": "ddb3cf7a-7d78-4df6-86ef-5083c75bed25"
      },
      "execution_count": 66,
      "outputs": [
        {
          "output_type": "stream",
          "name": "stdout",
          "text": [
            "[10, 11, 12, 13]\n",
            "[14, 15, 16, 17]\n",
            "[18, 19, 20, 21]\n"
          ]
        }
      ]
    },
    {
      "cell_type": "markdown",
      "source": [
        "8. Create a 5x2 matrix, initialise with random values and print it. Now, transpose the matrix and print it. How the transposed matrix is different from original matrix? \n",
        "\n",
        "The transpose matrix changes from row to column of original matrix. The 5*2 dimension is changed to 2*5 dimension. Therefore, it chnages the dimension of the original matrix. "
      ],
      "metadata": {
        "id": "zLTl8LbvkDRa"
      }
    },
    {
      "cell_type": "code",
      "source": [
        "import numpy as np\n",
        "ran_matrix = np.arange(0,10).reshape((5, 2))\n",
        "print(ran_matrix)\n",
        "transpose_matrix = np.transpose(ran_matrix)\n",
        "print (transpose_matrix)"
      ],
      "metadata": {
        "colab": {
          "base_uri": "https://localhost:8080/"
        },
        "id": "8kJEXOlKkFYk",
        "outputId": "cdb67e09-a022-43ed-8c0f-6f6ab2b0e6db"
      },
      "execution_count": 73,
      "outputs": [
        {
          "output_type": "stream",
          "name": "stdout",
          "text": [
            "[[0 1]\n",
            " [2 3]\n",
            " [4 5]\n",
            " [6 7]\n",
            " [8 9]]\n",
            "[[0 2 4 6 8]\n",
            " [1 3 5 7 9]]\n"
          ]
        }
      ]
    },
    {
      "cell_type": "markdown",
      "source": [
        " 10. Read the data stored in the \"data.csv\" file as a matrix. The row of the matrix represents data point or instance and the column represents the variable or feature. Print the number of data instances and variables present in this dataset. Calculate mean of the second variable and deduct this mean from original values of the variable. Print both original and modified values of the variable."
      ],
      "metadata": {
        "id": "yDE_jd1RmIqY"
      }
    },
    {
      "cell_type": "code",
      "source": [
        "from google.colab import files\n",
        "uploaded = files.upload()\n",
        "import pandas as pd\n",
        "import io\n",
        "data = pd.read_csv(io.BytesIO(uploaded['data.csv']))"
      ],
      "metadata": {
        "colab": {
          "base_uri": "https://localhost:8080/",
          "height": 74
        },
        "id": "rVLOfu96mRhK",
        "outputId": "0c1d11d8-d025-474e-9c68-64816d3a24c3"
      },
      "execution_count": 75,
      "outputs": [
        {
          "output_type": "display_data",
          "data": {
            "text/plain": [
              "<IPython.core.display.HTML object>"
            ],
            "text/html": [
              "\n",
              "     <input type=\"file\" id=\"files-0da2ac1c-03b5-44f1-944c-fdc637124aeb\" name=\"files[]\" multiple disabled\n",
              "        style=\"border:none\" />\n",
              "     <output id=\"result-0da2ac1c-03b5-44f1-944c-fdc637124aeb\">\n",
              "      Upload widget is only available when the cell has been executed in the\n",
              "      current browser session. Please rerun this cell to enable.\n",
              "      </output>\n",
              "      <script>// Copyright 2017 Google LLC\n",
              "//\n",
              "// Licensed under the Apache License, Version 2.0 (the \"License\");\n",
              "// you may not use this file except in compliance with the License.\n",
              "// You may obtain a copy of the License at\n",
              "//\n",
              "//      http://www.apache.org/licenses/LICENSE-2.0\n",
              "//\n",
              "// Unless required by applicable law or agreed to in writing, software\n",
              "// distributed under the License is distributed on an \"AS IS\" BASIS,\n",
              "// WITHOUT WARRANTIES OR CONDITIONS OF ANY KIND, either express or implied.\n",
              "// See the License for the specific language governing permissions and\n",
              "// limitations under the License.\n",
              "\n",
              "/**\n",
              " * @fileoverview Helpers for google.colab Python module.\n",
              " */\n",
              "(function(scope) {\n",
              "function span(text, styleAttributes = {}) {\n",
              "  const element = document.createElement('span');\n",
              "  element.textContent = text;\n",
              "  for (const key of Object.keys(styleAttributes)) {\n",
              "    element.style[key] = styleAttributes[key];\n",
              "  }\n",
              "  return element;\n",
              "}\n",
              "\n",
              "// Max number of bytes which will be uploaded at a time.\n",
              "const MAX_PAYLOAD_SIZE = 100 * 1024;\n",
              "\n",
              "function _uploadFiles(inputId, outputId) {\n",
              "  const steps = uploadFilesStep(inputId, outputId);\n",
              "  const outputElement = document.getElementById(outputId);\n",
              "  // Cache steps on the outputElement to make it available for the next call\n",
              "  // to uploadFilesContinue from Python.\n",
              "  outputElement.steps = steps;\n",
              "\n",
              "  return _uploadFilesContinue(outputId);\n",
              "}\n",
              "\n",
              "// This is roughly an async generator (not supported in the browser yet),\n",
              "// where there are multiple asynchronous steps and the Python side is going\n",
              "// to poll for completion of each step.\n",
              "// This uses a Promise to block the python side on completion of each step,\n",
              "// then passes the result of the previous step as the input to the next step.\n",
              "function _uploadFilesContinue(outputId) {\n",
              "  const outputElement = document.getElementById(outputId);\n",
              "  const steps = outputElement.steps;\n",
              "\n",
              "  const next = steps.next(outputElement.lastPromiseValue);\n",
              "  return Promise.resolve(next.value.promise).then((value) => {\n",
              "    // Cache the last promise value to make it available to the next\n",
              "    // step of the generator.\n",
              "    outputElement.lastPromiseValue = value;\n",
              "    return next.value.response;\n",
              "  });\n",
              "}\n",
              "\n",
              "/**\n",
              " * Generator function which is called between each async step of the upload\n",
              " * process.\n",
              " * @param {string} inputId Element ID of the input file picker element.\n",
              " * @param {string} outputId Element ID of the output display.\n",
              " * @return {!Iterable<!Object>} Iterable of next steps.\n",
              " */\n",
              "function* uploadFilesStep(inputId, outputId) {\n",
              "  const inputElement = document.getElementById(inputId);\n",
              "  inputElement.disabled = false;\n",
              "\n",
              "  const outputElement = document.getElementById(outputId);\n",
              "  outputElement.innerHTML = '';\n",
              "\n",
              "  const pickedPromise = new Promise((resolve) => {\n",
              "    inputElement.addEventListener('change', (e) => {\n",
              "      resolve(e.target.files);\n",
              "    });\n",
              "  });\n",
              "\n",
              "  const cancel = document.createElement('button');\n",
              "  inputElement.parentElement.appendChild(cancel);\n",
              "  cancel.textContent = 'Cancel upload';\n",
              "  const cancelPromise = new Promise((resolve) => {\n",
              "    cancel.onclick = () => {\n",
              "      resolve(null);\n",
              "    };\n",
              "  });\n",
              "\n",
              "  // Wait for the user to pick the files.\n",
              "  const files = yield {\n",
              "    promise: Promise.race([pickedPromise, cancelPromise]),\n",
              "    response: {\n",
              "      action: 'starting',\n",
              "    }\n",
              "  };\n",
              "\n",
              "  cancel.remove();\n",
              "\n",
              "  // Disable the input element since further picks are not allowed.\n",
              "  inputElement.disabled = true;\n",
              "\n",
              "  if (!files) {\n",
              "    return {\n",
              "      response: {\n",
              "        action: 'complete',\n",
              "      }\n",
              "    };\n",
              "  }\n",
              "\n",
              "  for (const file of files) {\n",
              "    const li = document.createElement('li');\n",
              "    li.append(span(file.name, {fontWeight: 'bold'}));\n",
              "    li.append(span(\n",
              "        `(${file.type || 'n/a'}) - ${file.size} bytes, ` +\n",
              "        `last modified: ${\n",
              "            file.lastModifiedDate ? file.lastModifiedDate.toLocaleDateString() :\n",
              "                                    'n/a'} - `));\n",
              "    const percent = span('0% done');\n",
              "    li.appendChild(percent);\n",
              "\n",
              "    outputElement.appendChild(li);\n",
              "\n",
              "    const fileDataPromise = new Promise((resolve) => {\n",
              "      const reader = new FileReader();\n",
              "      reader.onload = (e) => {\n",
              "        resolve(e.target.result);\n",
              "      };\n",
              "      reader.readAsArrayBuffer(file);\n",
              "    });\n",
              "    // Wait for the data to be ready.\n",
              "    let fileData = yield {\n",
              "      promise: fileDataPromise,\n",
              "      response: {\n",
              "        action: 'continue',\n",
              "      }\n",
              "    };\n",
              "\n",
              "    // Use a chunked sending to avoid message size limits. See b/62115660.\n",
              "    let position = 0;\n",
              "    do {\n",
              "      const length = Math.min(fileData.byteLength - position, MAX_PAYLOAD_SIZE);\n",
              "      const chunk = new Uint8Array(fileData, position, length);\n",
              "      position += length;\n",
              "\n",
              "      const base64 = btoa(String.fromCharCode.apply(null, chunk));\n",
              "      yield {\n",
              "        response: {\n",
              "          action: 'append',\n",
              "          file: file.name,\n",
              "          data: base64,\n",
              "        },\n",
              "      };\n",
              "\n",
              "      let percentDone = fileData.byteLength === 0 ?\n",
              "          100 :\n",
              "          Math.round((position / fileData.byteLength) * 100);\n",
              "      percent.textContent = `${percentDone}% done`;\n",
              "\n",
              "    } while (position < fileData.byteLength);\n",
              "  }\n",
              "\n",
              "  // All done.\n",
              "  yield {\n",
              "    response: {\n",
              "      action: 'complete',\n",
              "    }\n",
              "  };\n",
              "}\n",
              "\n",
              "scope.google = scope.google || {};\n",
              "scope.google.colab = scope.google.colab || {};\n",
              "scope.google.colab._files = {\n",
              "  _uploadFiles,\n",
              "  _uploadFilesContinue,\n",
              "};\n",
              "})(self);\n",
              "</script> "
            ]
          },
          "metadata": {}
        },
        {
          "output_type": "stream",
          "name": "stdout",
          "text": [
            "Saving data.csv to data.csv\n"
          ]
        }
      ]
    },
    {
      "cell_type": "code",
      "source": [
        "array = np.loadtxt(open(\"data.csv\", \"rb\"), delimiter=\",\")\n",
        "print (array)"
      ],
      "metadata": {
        "colab": {
          "base_uri": "https://localhost:8080/"
        },
        "id": "sgkQhQBrm50u",
        "outputId": "00c64c99-487a-479e-b7fe-5e9105e72a31"
      },
      "execution_count": 79,
      "outputs": [
        {
          "output_type": "stream",
          "name": "stdout",
          "text": [
            "[[3.3816 3.3891]\n",
            " [4.5279 5.8542]\n",
            " [2.6557 4.412 ]\n",
            " [2.7652 3.7154]\n",
            " [2.8466 4.1755]\n",
            " [3.8907 6.4884]\n",
            " [3.4758 3.6328]\n",
            " [5.9113 6.6808]\n",
            " [3.9289 5.0984]\n",
            " [4.5618 5.6233]\n",
            " [4.5741 5.3977]\n",
            " [4.3717 5.4612]\n",
            " [4.1917 4.9547]\n",
            " [5.2441 4.6615]\n",
            " [2.8358 3.768 ]\n",
            " [5.6353 6.3121]\n",
            " [4.6863 5.6652]\n",
            " [2.8505 4.6265]\n",
            " [5.1102 7.3632]\n",
            " [5.1826 4.6465]\n",
            " [5.7073 6.681 ]\n",
            " [3.5797 4.8028]\n",
            " [5.6394 6.1204]\n",
            " [4.2635 4.6894]\n",
            " [2.5365 3.8845]\n",
            " [3.2238 4.9426]\n",
            " [4.9295 5.955 ]\n",
            " [5.793  5.1084]\n",
            " [2.8168 4.819 ]\n",
            " [3.8888 5.1004]\n",
            " [3.3432 5.893 ]\n",
            " [5.8797 5.5214]\n",
            " [3.1039 3.8571]\n",
            " [5.3315 4.6807]\n",
            " [3.3754 4.5654]\n",
            " [4.7767 6.2544]\n",
            " [2.6757 3.731 ]\n",
            " [5.5003 5.6795]\n",
            " [1.7971 3.2475]\n",
            " [4.3225 5.1111]\n",
            " [4.421  6.0256]\n",
            " [3.1793 4.4369]\n",
            " [3.0335 3.9788]\n",
            " [4.6093 5.8798]\n",
            " [2.9638 3.3002]\n",
            " [3.9718 5.4077]\n",
            " [1.1802 2.8787]\n",
            " [1.919  5.0711]\n",
            " [3.9552 4.5053]\n",
            " [5.118  6.0851]]\n"
          ]
        }
      ]
    },
    {
      "cell_type": "code",
      "source": [
        "#Print number of data instances and variables present in the dataset\n",
        "data_instances = len(data.index)\n",
        "print (data_instances)\n",
        "variables = len (data.columns)\n",
        "print (variables)"
      ],
      "metadata": {
        "colab": {
          "base_uri": "https://localhost:8080/"
        },
        "id": "l40W0VsXo4r3",
        "outputId": "2b113213-8f90-45b3-f0dd-d2307c589fae"
      },
      "execution_count": 82,
      "outputs": [
        {
          "output_type": "stream",
          "name": "stdout",
          "text": [
            "49\n",
            "2\n"
          ]
        }
      ]
    }
  ]
}